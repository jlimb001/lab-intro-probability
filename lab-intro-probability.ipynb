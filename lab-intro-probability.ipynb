{
 "cells": [
  {
   "cell_type": "markdown",
   "metadata": {},
   "source": [
    "# Lab | Intro to Probability"
   ]
  },
  {
   "cell_type": "markdown",
   "metadata": {},
   "source": [
    "**Objective**\n",
    "\n",
    "Welcome to this Intro to Probability lab, where we explore decision-making scenarios through the lens of probability and strategic analysis. In the business world, making informed decisions is crucial, especially when faced with uncertainties. This lab focuses on scenarios where probabilistic outcomes play a significant role in shaping strategies and outcomes. Students will engage in exercises that require assessing and choosing optimal paths based on data-driven insights. The goal is to enhance your skills by applying probability concepts to solve real-world problems."
   ]
  },
  {
   "cell_type": "markdown",
   "metadata": {},
   "source": [
    "**Challenge 1**"
   ]
  },
  {
   "cell_type": "markdown",
   "metadata": {},
   "source": [
    "#### Ironhack Airlines \n",
    "\n",
    "Often Airlines sell more tickets than they have seats available, this is called overbooking. Consider the following:\n",
    "- A plane has 450 seats. \n",
    "- Based on historical data we conclude that each individual passenger has a 3% chance of missing it's flight. \n",
    "\n",
    "If the Ironhack Airlines routinely sells 460 tickets, what is the chance that they have a seats for all passenger?"
   ]
  },
  {
   "cell_type": "code",
   "execution_count": 2,
   "metadata": {},
   "outputs": [
    {
     "name": "stdout",
     "output_type": "stream",
     "text": [
      "Exact probability of exactly 450 ticket holders showing up: 0.0697\n"
     ]
    }
   ],
   "source": [
    "from scipy.stats import binom\n",
    "\n",
    "n = 460  # number of tickets sold\n",
    "p = 0.97  # probability of a ticket holder showing up\n",
    "seats = 450\n",
    "\n",
    "# Exact binomial calculation\n",
    "prob_exact = binom.pmf(seats, n, p)\n",
    "print(f\"Exact probability of exactly {seats} ticket holders showing up: {prob_exact:.4f}\")"
   ]
  },
  {
   "cell_type": "markdown",
   "metadata": {},
   "source": [
    "**Challenge 2**"
   ]
  },
  {
   "cell_type": "markdown",
   "metadata": {},
   "source": [
    "#### Ironhack Call Center "
   ]
  },
  {
   "cell_type": "markdown",
   "metadata": {},
   "source": [
    "Suppose a customer service representative at a call center is handling customer complaints. Consider the following:\n",
    "- The probability of successfully resolving a customer complaint on the first attempt is 0.3. \n",
    "\n",
    "\n",
    "What is the probability that the representative needs to make at least three attempts before successfully resolving a customer complaint?"
   ]
  },
  {
   "cell_type": "code",
   "execution_count": 9,
   "metadata": {},
   "outputs": [
    {
     "name": "stdout",
     "output_type": "stream",
     "text": [
      "The probability of resolving a complaint on at least 3 call attempts: 0.3000\n"
     ]
    }
   ],
   "source": [
    "from scipy.stats import geom\n",
    "p = 0.3 # probability of successfully resolving a customer complaint\n",
    "geom_dist = geom(p)\n",
    "print(f'The probability of resolving a complaint on at least 3 call attempts: {geom_dist.pmf(1):.4f}')\n",
    "# k = 3 # Minimum number of calls to resolve a complaint\n",
    "\n",
    "# prob_at_least_3 = geom.sf(k - 1, p)\n",
    "# print(f\"Probability of resolving at least 3 complaints: {prob_at_least_3:.4f}\")"
   ]
  },
  {
   "cell_type": "markdown",
   "metadata": {},
   "source": [
    "**Challenge 3**"
   ]
  },
  {
   "cell_type": "markdown",
   "metadata": {},
   "source": [
    "#### Ironhack Website"
   ]
  },
  {
   "cell_type": "markdown",
   "metadata": {},
   "source": [
    "Consider a scenario related to Ironhack website traffic. Where:\n",
    "- our website takes on average 500 visits per hour.\n",
    "- the website's server is designed to handle up to 550 vists per hour.\n",
    "\n",
    "\n",
    "What is the probability of the website server being overwhelmed?"
   ]
  },
  {
   "cell_type": "code",
   "execution_count": 11,
   "metadata": {},
   "outputs": [
    {
     "name": "stdout",
     "output_type": "stream",
     "text": [
      "Probability of being overwhelmed: 0.0129\n"
     ]
    }
   ],
   "source": [
    "from scipy.stats import poisson\n",
    "\n",
    "# Given parameters\n",
    "lambda_ = 500  # average visits per hour\n",
    "capacity = 550  # maximum capacity\n",
    "\n",
    "prob_overwhelmed = 1 - poisson.cdf(capacity, lambda_)\n",
    "print(f\"Probability of being overwhelmed: {prob_overwhelmed:.4f}\")"
   ]
  },
  {
   "cell_type": "markdown",
   "metadata": {},
   "source": [
    "What is the probability of being overwhelmed at some point during a day? (consider 24hours)"
   ]
  },
  {
   "cell_type": "code",
   "execution_count": 12,
   "metadata": {},
   "outputs": [
    {
     "name": "stdout",
     "output_type": "stream",
     "text": [
      "Probability of being overwhelmed in 24 hours: 0.2677\n"
     ]
    }
   ],
   "source": [
    "# Given parameters\n",
    "lambda_hourly = 500  # average visits per hour\n",
    "capacity = 550  # maximum capacity\n",
    "hours = 24\n",
    "\n",
    "# Probability of not getting overhelmed in 1 hours\n",
    "prob_no_overwhelmed_hourly = poisson.cdf(capacity, lambda_hourly)\n",
    "\n",
    "# Probability of no overwhelmed in 24 hours\n",
    "prob_no_overwhelmed = prob_no_overwhelmed_hourly ** hours\n",
    "\n",
    "# Calculate the probability of being overwhelmed in 24 hours\n",
    "prob_overwhelmed_24h = 1 - prob_no_overwhelmed\n",
    "print(f\"Probability of being overwhelmed in 24 hours: {prob_overwhelmed_24h:.4f}\")"
   ]
  },
  {
   "cell_type": "markdown",
   "metadata": {},
   "source": [
    "**Challenge 4**"
   ]
  },
  {
   "cell_type": "markdown",
   "metadata": {},
   "source": [
    "#### Ironhack Helpdesk"
   ]
  },
  {
   "cell_type": "markdown",
   "metadata": {},
   "source": [
    "Consider a scenario related to the time between arrivals of customers at a service desk.\n",
    "\n",
    "On average, a customers arrives every 10minutes.\n",
    "\n",
    "What is the probability that the next customer will arrive within the next 5 minutes?"
   ]
  },
  {
   "cell_type": "code",
   "execution_count": 13,
   "metadata": {},
   "outputs": [
    {
     "name": "stdout",
     "output_type": "stream",
     "text": [
      "Probability of arrival of next customer in less than 5 minutes: 0.3935\n"
     ]
    }
   ],
   "source": [
    "from scipy.stats import expon\n",
    "\n",
    "# Given parameters\n",
    "lambda_value = 1 / 10  # average cusotmer arrival rate (1 customer every 10 minutes)\n",
    "lambda_inv = expon(scale=1/lambda_value)  # inverse of the arrival rate\n",
    "\n",
    "lambda_inv.cdf(5)  # Probability of arrival of next customer in less than 5 minutes\n",
    "print(f\"Probability of arrival of next customer in less than 5 minutes: {lambda_inv.cdf(5):.4f}\")"
   ]
  },
  {
   "cell_type": "markdown",
   "metadata": {},
   "source": [
    "If there is no customer for 15minutes, employees can that a 5minutes break.\n",
    "\n",
    "What is the probability an employee taking a break?"
   ]
  },
  {
   "cell_type": "code",
   "execution_count": 15,
   "metadata": {},
   "outputs": [
    {
     "name": "stdout",
     "output_type": "stream",
     "text": [
      "Probability of employee taking a break in 15 minutes is 0.2231\n"
     ]
    }
   ],
   "source": [
    "avg_arrival_time = 10 # Average time arrival (in minutes)\n",
    "lambda_value = 1 / 10  # average cusotmer arrival rate (1 customer every 10 minutes)\n",
    "window_for_break = 15 # Time window for break (in minutes)\n",
    "\n",
    "prob_break = expon.sf(window_for_break, scale=1/lambda_value)\n",
    "print(f\"Probability of employee taking a break in 15 minutes is {prob_break:.4f}\")"
   ]
  },
  {
   "cell_type": "markdown",
   "metadata": {},
   "source": [
    "**Challenge 5**"
   ]
  },
  {
   "cell_type": "markdown",
   "metadata": {},
   "source": [
    "The weights of a certain species of birds follow a normal distribution with a mean weight of 150 grams and a standard deviation of 10 grams. \n",
    "\n",
    "- If we randomly select a bird, what is the probability that its weight is between 140 and 160 grams?"
   ]
  },
  {
   "cell_type": "code",
   "execution_count": 16,
   "metadata": {},
   "outputs": [
    {
     "name": "stdout",
     "output_type": "stream",
     "text": [
      "The probability of the bird weight being between 140 and 160 grams is 0.6827\n"
     ]
    }
   ],
   "source": [
    "from scipy.stats import norm\n",
    "\n",
    "mean = 150\n",
    "std = 10 \n",
    "\n",
    "norm_dist = norm(loc=mean, scale=std)\n",
    "print(f\"The probability of the bird weight being between 140 and 160 grams is {norm_dist.cdf(160) - norm_dist.cdf(140):.4f}\")"
   ]
  },
  {
   "cell_type": "markdown",
   "metadata": {},
   "source": [
    "**Challenge 6**"
   ]
  },
  {
   "cell_type": "markdown",
   "metadata": {},
   "source": [
    "If the lifetime (in hours) of a certain electronic component follows an exponential distribution with a mean lifetime of 50 hours, what is the probability that the component fails within the first 30 hours?"
   ]
  },
  {
   "cell_type": "code",
   "execution_count": 20,
   "metadata": {},
   "outputs": [
    {
     "name": "stdout",
     "output_type": "stream",
     "text": [
      "Probability of failure within 30 hours: 0.4512\n"
     ]
    }
   ],
   "source": [
    "mean = 50\n",
    "lambda_ = 1/mean \n",
    "failure_time = 30 # in hours\n",
    "\n",
    "prob_failure_within_30h = expon.cdf(failure_time, scale= mean)\n",
    "print(f\"Probability of failure within 30 hours: {prob_failure_within_30h:.4f}\")\n"
   ]
  },
  {
   "cell_type": "code",
   "execution_count": null,
   "metadata": {},
   "outputs": [],
   "source": []
  }
 ],
 "metadata": {
  "kernelspec": {
   "display_name": "base",
   "language": "python",
   "name": "python3"
  },
  "language_info": {
   "codemirror_mode": {
    "name": "ipython",
    "version": 3
   },
   "file_extension": ".py",
   "mimetype": "text/x-python",
   "name": "python",
   "nbconvert_exporter": "python",
   "pygments_lexer": "ipython3",
   "version": "3.12.4"
  }
 },
 "nbformat": 4,
 "nbformat_minor": 2
}
